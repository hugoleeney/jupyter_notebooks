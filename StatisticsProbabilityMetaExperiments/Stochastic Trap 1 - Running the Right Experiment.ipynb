{
 "cells": [
  {
   "cell_type": "markdown",
   "id": "daa51473",
   "metadata": {},
   "source": [
    "# Introduction\n",
    "\n",
    "I fell into a 'stochastic trap' recently when running experiments with random variables.\n",
    "\n",
    "Lets say there is a population of 1000 football players. We want to form a team of the best 11. We imagine the ratings of the players are distributed normally (Gaussian). We can run such a hypothetical experiment as follows."
   ]
  },
  {
   "cell_type": "code",
   "execution_count": 14,
   "id": "f6c775dc",
   "metadata": {},
   "outputs": [
    {
     "name": "stdout",
     "output_type": "stream",
     "text": [
      "the ratings of the team are: [4.786297465588625, 4.849655628517978, 4.949423553182096, 4.992252508406897, 5.14117304064939, 5.248476800382806, 5.2572488670371085, 5.430446103421893, 5.567310503008709, 5.778318528899001, 7.6273682577180475]\n"
     ]
    }
   ],
   "source": [
    "import random\n",
    "\n",
    "\n",
    "def get_team(population, n=11):\n",
    "    '''for a gaussian population of the given size, returns (a, b) where \n",
    "    a = the rating of the n'th best player\n",
    "    b = the rating of the best player\n",
    "    '''\n",
    "    players = [random.gauss(mu=0, sigma=2) for x in range(population)]\n",
    "    players.sort()\n",
    "    return players[-n:]\n",
    "\n",
    "team = get_team(1000, 11) \n",
    "print(f\"the ratings of the team are: {team}\")"
   ]
  },
  {
   "cell_type": "markdown",
   "id": "0d4d80f0",
   "metadata": {},
   "source": [
    "Next lets say we want to find out how well our best player would fare in a larger population of 10000 players. We could generate a population of 10000 and rank our player against that population as follows."
   ]
  },
  {
   "cell_type": "code",
   "execution_count": 15,
   "id": "979f8c57",
   "metadata": {},
   "outputs": [
    {
     "name": "stdout",
     "output_type": "stream",
     "text": [
      "the best from 1000 is ranked (0 best): 0\n"
     ]
    }
   ],
   "source": [
    "from bisect import bisect\n",
    "\n",
    "\n",
    "def get_rank(population, rating):\n",
    "    '''returns rank (best = 0) of the rating in a gaussian population of given size'''\n",
    "    players = [random.gauss(mu=0, sigma=2) for x in range(population)]\n",
    "    players.sort()\n",
    "    rank = bisect(players, rating)\n",
    "    return population - rank\n",
    "\n",
    "print(f\"the best from 1000 is ranked (0 best): {get_rank(10000, team[-1])}\")"
   ]
  },
  {
   "cell_type": "markdown",
   "id": "27e35355",
   "metadata": {},
   "source": [
    "# The Experiment\n",
    "\n",
    "But that is just one instance of a team selected from 1000 and one instance of a population of 10,000. We want to figure out some kind of expectation.\n",
    "\n",
    "We could do it this way:\n",
    "- Step 1) find out the average best player from population of 1000\n",
    "- Step 2) compare that average with a number of populations of 10000 - we'll take the average rank\n",
    "\n",
    "As follows ..."
   ]
  },
  {
   "cell_type": "code",
   "execution_count": 17,
   "id": "16615c2e",
   "metadata": {},
   "outputs": [
    {
     "name": "stdout",
     "output_type": "stream",
     "text": [
      "average best rating from population of 1000: 6.494049595120885\n",
      "average rank in 10000: 5.818\n"
     ]
    }
   ],
   "source": [
    "from statistics import mean\n",
    "\n",
    "def experiment():\n",
    "    ave_best_from_1000 = mean([get_team(1000)[-1] for team in range(1000)])\n",
    "    ave_rank_in_10000 = mean([get_rank(10000, ave_best_from_1000) for population in range(1000)])\n",
    "    return ave_best_from_1000, ave_rank_in_10000\n",
    "\n",
    "ave_best_from_1000, ave_rank_in_10000 = experiment()\n",
    "print(f\"average best rating from population of 1000: {ave_best_from_1000}\")\n",
    "print(f\"average rank in 10000: {ave_rank_in_10000}\")"
   ]
  },
  {
   "cell_type": "markdown",
   "id": "f49316d3",
   "metadata": {},
   "source": [
    "Below we look at how tightly results from this method are distributed. We can see that this method gives us a very consistent result."
   ]
  },
  {
   "cell_type": "code",
   "execution_count": null,
   "id": "6d1e4aa5",
   "metadata": {
    "scrolled": true
   },
   "outputs": [],
   "source": [
    "# WARNING long running code\n",
    "a = [experiment()[0] for i in range(100)]"
   ]
  },
  {
   "cell_type": "code",
   "execution_count": 26,
   "id": "ca948b86",
   "metadata": {},
   "outputs": [
    {
     "name": "stdout",
     "output_type": "stream",
     "text": [
      "mean: 6.4875069465655155, stdev: 0.02137751794594949\n"
     ]
    }
   ],
   "source": [
    "from statistics import mean, stdev\n",
    "\n",
    "print(f\"mean: {mean(a)}, stdev: {stdev(a)}\")"
   ]
  },
  {
   "cell_type": "markdown",
   "id": "699b9c5f",
   "metadata": {},
   "source": [
    "# The problem\n",
    "\n",
    "The problem with that method is that in Step 1), by taking the average at that point, we lose a lot of information about what kinds of best player we get in that smaller population. We can take a look at the distribution of the ratings of those best players as follows. We see that the distribution is skewed and therefore we should use the average with more care."
   ]
  },
  {
   "cell_type": "code",
   "execution_count": 16,
   "id": "f8f511a3",
   "metadata": {},
   "outputs": [
    {
     "data": {
      "image/png": "[encoded data removed]",
      "text/plain": [
       "<Figure size 432x288 with 1 Axes>"
      ]
     },
     "metadata": {
      "needs_background": "light"
     },
     "output_type": "display_data"
    }
   ],
   "source": [
    "import matplotlib.pyplot as plt\n",
    "\n",
    "\n",
    "def plot_experiment(data_function, title=None, bins=20, density=True, cumulative=False):\n",
    "    '''\n",
    "    density: if True plot density (density = counts / (sum(counts) * np.diff(bins)))\n",
    "    '''\n",
    "    fig, ax = plt.subplots()\n",
    "    xs = data_function()\n",
    "    \n",
    "    ax.hist(xs, bins=bins, density=density, cumulative=cumulative)\n",
    "    ax.set_xlabel('x')\n",
    "    ax.set_ylabel('pdf(x)')\n",
    "    if title:\n",
    "        ax.set_title(title)\n",
    "    ax.grid(True)\n",
    "\n",
    "\n",
    "best_players = [get_team(1000)[-1] for i in range(10000)]\n",
    "plot_experiment(lambda: best_players)\n"
   ]
  },
  {
   "cell_type": "markdown",
   "id": "3cc9d70c",
   "metadata": {},
   "source": [
    "# Solution 1\n",
    "\n",
    "A better way to find out how our best players from smaller populations will do in the larger populations is to discover a player from one random small population and compare each of them to a random larger population."
   ]
  },
  {
   "cell_type": "code",
   "execution_count": 17,
   "id": "52d69806",
   "metadata": {},
   "outputs": [
    {
     "name": "stdout",
     "output_type": "stream",
     "text": [
      "average rank in 10000: 9.8833\n"
     ]
    }
   ],
   "source": [
    "ave_rank_in_10K_1by1 = mean([\n",
    "    get_rank(10000, get_team(1000)[-1]) \n",
    "        for x in range(10000)\n",
    "])\n",
    "print(f\"average rank in 10000: {ave_rank_in_10K_1by1}\")"
   ]
  },
  {
   "cell_type": "markdown",
   "id": "c13604bf",
   "metadata": {},
   "source": [
    "The average rank is significantly different. Approximately 10 vs 6. The outcome of this experiment is very reliable but I don't include the code to demonstrate this as it is quite computationally expensive.\n",
    "\n",
    "\n",
    "# Solution 2\n",
    "\n",
    "The above is computationaly much more expensive than Solution 1 as for each trial we generate a population of 1000 and another population of 10000. Lets see if we can only generate a single population of 10000 that we can reuse. Below we will see what kind of distribution of rank we get when we reuse a larger population over and over."
   ]
  },
  {
   "cell_type": "code",
   "execution_count": 27,
   "id": "e62098b2",
   "metadata": {},
   "outputs": [
    {
     "name": "stdout",
     "output_type": "stream",
     "text": [
      "0, 1, 2, 3, 4, 5, 6, 7, 8, 9, 10, 11, 12, 13, 14, 15, 16, 17, 18, 19, 20, 21, 22, 23, 24, 25, 26, 27, 28, 29, 30, 31, 32, 33, 34, 35, 36, 37, 38, 39, 40, 41, 42, 43, 44, 45, 46, 47, 48, 49, 50, 51, 52, 53, 54, 55, 56, 57, 58, 59, 60, 61, 62, 63, 64, 65, 66, 67, 68, 69, 70, 71, 72, 73, 74, 75, 76, 77, 78, 79, 80, 81, 82, 83, 84, 85, 86, 87, 88, 89, 90, 91, 92, 93, 94, 95, 96, 97, 98, 99, "
     ]
    },
    {
     "data": {
      "image/png": "[encoded data removed]",
      "text/plain": [
       "<Figure size 432x288 with 1 Axes>"
      ]
     },
     "metadata": {
      "needs_background": "light"
     },
     "output_type": "display_data"
    }
   ],
   "source": [
    "def get_rank_given_population(players, rating):\n",
    "    '''returns rank (best = 0) of the rating in a gaussian population of given size'''\n",
    "    rank = bisect(players, rating)\n",
    "    return len(players) - rank\n",
    "\n",
    "\n",
    "def single_population_experiment():\n",
    "    players = [random.gauss(mu=0, sigma=2) for x in range(10000)]\n",
    "    players.sort()\n",
    "    ave_rank = mean([\n",
    "        get_rank_given_population(players, get_team(1000)[-1]) \n",
    "            for x in range(1000) # cut down to 1000 to reduce computation time\n",
    "    ])\n",
    "    return ave_rank\n",
    "\n",
    "\n",
    "ranks = []\n",
    "for i in range(100):\n",
    "    r = single_population_experiment()\n",
    "    print(i, end=\", \")\n",
    "    ranks.append(r)\n",
    "\n",
    "plot_experiment(lambda: ranks)\n"
   ]
  },
  {
   "cell_type": "markdown",
   "id": "e6936a63",
   "metadata": {},
   "source": [
    "We can see that the average result clusters around our expected value of ~10. However we would not want to trust any single run of this experiment. Solution 1 is a better bet."
   ]
  },
  {
   "cell_type": "code",
   "execution_count": null,
   "id": "3a1a3ce9",
   "metadata": {},
   "outputs": [],
   "source": []
  }
 ],
 "metadata": {
  "kernelspec": {
   "display_name": "Python 3",
   "language": "python",
   "name": "python3"
  },
  "language_info": {
   "codemirror_mode": {
    "name": "ipython",
    "version": 3
   },
   "file_extension": ".py",
   "mimetype": "text/x-python",
   "name": "python",
   "nbconvert_exporter": "python",
   "pygments_lexer": "ipython3",
   "version": "3.8.5"
  }
 },
 "nbformat": 4,
 "nbformat_minor": 5
}
