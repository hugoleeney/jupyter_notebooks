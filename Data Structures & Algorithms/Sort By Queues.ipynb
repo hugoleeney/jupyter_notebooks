{
 "cells": [
  {
   "cell_type": "markdown",
   "id": "saving-cornell",
   "metadata": {},
   "source": [
    "# Introduction"
   ]
  },
  {
   "cell_type": "markdown",
   "id": "tutorial-omega",
   "metadata": {},
   "source": [
    "We present an idea for sorting a list/array of items.\n",
    "\n",
    "A naive first glance may lead us to believe that on average this algorithm should do better than O(nlogn). However when more thoroughly analyse we discover that although for small input sizes there is a linear improvement, as n grows large the average case approaches O(nlogn)\n",
    "\n",
    "The version of the algorithm presented here is an O(n) space algorithm and not an in-place comparison sort. However, it does not require a RAM model or integer comparisons like radix-sort or bucket-sort.\n",
    "\n",
    "The general idea is that we construct a new datastructure that is a list of queues that support append operations on both ends. We then process te list of items and add them to the datastructure in such a way as to optimally form queues of sorted items in O(n) time. We then do a k-way merge of those sorted queues.\n",
    "\n",
    "The optimal way of forming queues of sorted items is to append any new items to the right of the current queue if they are larger than the right most item and to the left of the current queue if they are smaller than the leftmost item. A new queue is formed if neither of those cases is true.\n",
    "\n",
    "The initial intuition is that forming the queues is O(n) and there will be O(k) queues where k is at most n/2 (but most probably less) and a k-way merge is O(nlogk). Therefore we must have done better than O(nlogn). As previously mentioned this intuition is only correct on a linear scale and so not true for large values of n.\n",
    "\n",
    "When considering all permutations of items, the worst case is Theta(nlogn) but every other case is O(nlogn). \n",
    "\n",
    "\n",
    "# dynamic programming to choose what values to add to the queue \n",
    "\n",
    "\n",
    "# can we make it a true comparison sort?\n",
    "\n",
    "# can we apply to BST?\n",
    "\n",
    "you add each item to a data structure\n",
    "- if the item can be added to either end of the current deque then do so\n",
    "- else start a new deque in the ds and call it current\n",
    "\n",
    "# use a skip list - keep list sorted up to point, binary search for index to insert\n",
    "\n",
    "# can we make queue-sort an in-place comparison sort\n"
   ]
  },
  {
   "cell_type": "code",
   "execution_count": 7,
   "id": "normal-joshua",
   "metadata": {},
   "outputs": [],
   "source": [
    "from collections import deque, Counter\n",
    "\n",
    "\n",
    "def merge(a, b):\n",
    "    i, j = 0, 0\n",
    "    result = []\n",
    "    while j < len(b):\n",
    "        if i >= len(a) or b[j] < a[i]:\n",
    "            result.append(b[j])\n",
    "            j += 1\n",
    "        else:\n",
    "            result.append(a[i])\n",
    "            i += 1\n",
    "    return result\n",
    "\n",
    "\n",
    "class Sorter():\n",
    "    \n",
    "    def __init__(self):\n",
    "        self.ds = [deque()]\n",
    "        \n",
    "    def insert(self, item):\n",
    "        if not self.ds[-1] or item > self.ds[-1][-1]:\n",
    "            self.ds[-1].append(item)\n",
    "        elif item < self.ds[-1][0]:\n",
    "            self.ds[-1].appendleft(item)\n",
    "        else:\n",
    "            self.ds.append(deque([item]))\n",
    "    \n",
    "    def mergek(self):\n",
    "        if len(self.ds) == 0:\n",
    "            return\n",
    "        ds = self.ds\n",
    "        while len(ds) != 1:\n",
    "            self.ds = []\n",
    "            for i in range(0, len(ds), 2):\n",
    "                self.ds.append(merge(ds[i], ds[i+1]) if i < len(ds)-1 else ds[i])\n",
    "            ds = self.ds"
   ]
  },
  {
   "cell_type": "markdown",
   "id": "involved-charter",
   "metadata": {},
   "source": [
    "A helper function to create plots."
   ]
  },
  {
   "cell_type": "code",
   "execution_count": 12,
   "id": "likely-advertiser",
   "metadata": {},
   "outputs": [],
   "source": [
    "import matplotlib.pyplot as plt\n",
    "\n",
    "\n",
    "def plot_function(xs, ys, title=\"\", xlabel=\"\", ylabel=\"\"):\n",
    "    fig, ax = plt.subplots()\n",
    "    ax.plot(\n",
    "        xs, \n",
    "        ys)\n",
    "    ax.set_title(title)\n",
    "    ax.set_xlabel(xlabel)\n",
    "    ax.set_ylabel(ylabel)\n",
    "    plt.show()\n"
   ]
  },
  {
   "cell_type": "markdown",
   "id": "nearby-jaguar",
   "metadata": {},
   "source": [
    "## Rough Benchmark of Sort vs Python Standard Library Sort"
   ]
  },
  {
   "cell_type": "code",
   "execution_count": 59,
   "id": "oriental-contest",
   "metadata": {},
   "outputs": [],
   "source": [
    "import time\n",
    "from itertools import permutations\n",
    "import random\n",
    "\n",
    "\n",
    "def benchmark_sorter(list_size):\n",
    "    st = time.perf_counter()\n",
    "    i = 0\n",
    "    base_list = list(range(list_size))\n",
    "    for i in range(10000):\n",
    "        random.shuffle(base_list)\n",
    "        s = Sorter()\n",
    "        for c in base_list:\n",
    "            s.insert(i)\n",
    "        s.mergek()\n",
    "        i += 1\n",
    "    e = time.perf_counter()\n",
    "    return e-st\n"
   ]
  },
  {
   "cell_type": "code",
   "execution_count": 60,
   "id": "sound-accuracy",
   "metadata": {},
   "outputs": [],
   "source": [
    "import time\n",
    "from itertools import permutations\n",
    "\n",
    "\n",
    "def benchmark_python(list_size):\n",
    "    s = time.perf_counter()\n",
    "    i = 0\n",
    "    base_list = list(range(list_size))\n",
    "    for i in range(10000):\n",
    "        random.shuffle(base_list)\n",
    "        a = sorted(base_list)\n",
    "        i += 1\n",
    "    e = time.perf_counter()\n",
    "    return e-s\n"
   ]
  },
  {
   "cell_type": "code",
   "execution_count": 61,
   "id": "affected-strengthening",
   "metadata": {},
   "outputs": [
    {
     "data": {
      "image/png": "[encoded data removed]",
      "text/plain": [
       "<Figure size 432x288 with 1 Axes>"
      ]
     },
     "metadata": {
      "needs_background": "light"
     },
     "output_type": "display_data"
    }
   ],
   "source": [
    "ys = []\n",
    "xs = []\n",
    "for i in range(10, 200, 10):\n",
    "    ys.append(benchmark_sorter(i))\n",
    "    xs.append(benchmark_python(i))\n",
    "plot_function(xs, ys)"
   ]
  },
  {
   "cell_type": "markdown",
   "id": "proud-horror",
   "metadata": {},
   "source": [
    "### How does sort-by-queues do relative to an 'nlogn' sort\n",
    "\n",
    "Sort-by-queues takes O(n) to create the queues but the number of queues will vary depending on the input. Given that we can merge k lists in nlogk the final runtime complexity of sort-by-queues depends on how many queues are created. In this section we do a brief analysis of how the average number of queues `k` and compare `log(k)` to `log(n)`."
   ]
  },
  {
   "cell_type": "code",
   "execution_count": 51,
   "id": "characteristic-morris",
   "metadata": {},
   "outputs": [
    {
     "name": "stdout",
     "output_type": "stream",
     "text": [
      "Counter({1: 1})\n",
      "ratio 0.0\n",
      "Counter({1: 2})\n",
      "ratio 0.0\n",
      "Counter({1: 4, 2: 2})\n",
      "ratio 0.21030991785715245\n",
      "Counter({2: 16, 1: 8})\n",
      "ratio 0.3333333333333333\n",
      "Counter({2: 92, 1: 16, 3: 12})\n",
      "ratio 0.3984459806381999\n",
      "Counter({2: 464, 3: 224, 1: 32})\n",
      "ratio 0.4400620468559583\n",
      "Counter({3: 2644, 2: 2184, 4: 148, 1: 64})\n",
      "ratio 0.47145440755269036\n",
      "Counter({3: 25296, 2: 9856, 4: 5040, 1: 128})\n",
      "ratio 0.4962732425449931\n",
      "Counter({3: 214464, 4: 101792, 2: 43248, 5: 3120, 1: 256})\n",
      "ratio 0.5163805807955659\n"
     ]
    }
   ],
   "source": [
    "from itertools import permutations\n",
    "\n",
    "\n",
    "def get_counts(length):\n",
    "    c = Counter()\n",
    "    for p in permutations(range(length)):\n",
    "        s = Sorter()\n",
    "        for i in p:\n",
    "            s.insert(i)\n",
    "        c[len(s.ds)] += 1\n",
    "    return c\n",
    "\n",
    "ratios = []\n",
    "for i in range(1,10):\n",
    "    counts = get_counts(i)\n",
    "    tot = sum( (math.log(k,2)*v for k,v in counts.items()))\n",
    "    logk = tot/math.factorial(i)\n",
    "    logn = math.log(i, 2) if i >1 else 1\n",
    "    print(counts)\n",
    "    print(\"ratio\", logk/logn)\n",
    "    ratios.append(logk/logn)\n",
    "    \n"
   ]
  },
  {
   "cell_type": "markdown",
   "id": "sublime-briefs",
   "metadata": {},
   "source": [
    "The cost of computing the relative performance for input lengths greater than 11 is too high. We will approach the problem by taking a random sample of permutations"
   ]
  },
  {
   "cell_type": "code",
   "execution_count": 49,
   "id": "accessory-charter",
   "metadata": {},
   "outputs": [],
   "source": [
    "from itertools import permutations\n",
    "\n",
    "\n",
    "def get_counts_sample(length, num_samples):\n",
    "    c = Counter()\n",
    "    base_list = list(range(1, length + 1))\n",
    "    for i in range(num_samples): #p in permutations(range(length)):\n",
    "        random.shuffle(base_list)\n",
    "        s = Sorter()\n",
    "        for i in base_list:\n",
    "            s.insert(i)\n",
    "        c[len(s.ds)] += 1\n",
    "    return c\n",
    "\n",
    "# LONG RUNNING CODE - precomputed below\n",
    "#\n",
    "# ratios_10_to_100 = []\n",
    "# for i in range(12,100):\n",
    "#     counts = get_counts_sample(i, 100000)\n",
    "#     tot = sum( (math.log(k,2)*v for k,v in counts.items()))\n",
    "#     logk = tot/100000\n",
    "#     logn = math.log(i, 2)\n",
    "#     ratios_10_to_100.append(logk/logn)\n",
    "\n",
    "# PRECOMPUTED\n",
    "ratios_10_to_100 = [0.533140655409678, 0.5474314348165317, 0.5594472814446738, 0.5709016441064565, 0.5803107374506197, 0.5890941127142336, 0.5965276962824045, 0.6040833596052821, 0.6102222412401676, 0.6163273283175222, 0.622012130634089, 0.6270609012966123, 0.6318613184083582, 0.6362702912151057, 0.6404029861992977, 0.6442894498533058, 0.6482601527326678, 0.651874225327803, 0.6549990188211892, 0.6582308933601062, 0.6611269783432325, 0.6637689198571304, 0.6668065056610766, 0.6691928083549754, 0.6719526924515266, 0.6741128835958506, 0.6765592957297009, 0.6786874028792637, 0.6804823549733964, 0.6828516136638654, 0.6848688676440978, 0.6866160145207253, 0.6882319843024224, 0.6902752888631787, 0.6919936813182203, 0.6937594267383982, 0.6952541540951938, 0.696708554124006, 0.6982829764179193, 0.6997363495008876, 0.7012853471636641, 0.7025470142143618, 0.7039309923176622, 0.705148726129963, 0.7065159438116271, 0.7077092012382472, 0.7089321146303637, 0.7101045092741557, 0.711255400704244, 0.7122338193615341, 0.7133705336090861, 0.7145474564033693, 0.7156081515338488, 0.716540590271144, 0.7175418368700944, 0.7186003384584592, 0.7195528858464499, 0.7205393125851836, 0.7213228493285243, 0.72237932355555, 0.7231958271743769, 0.7241207925791647, 0.7249125342316864, 0.7256713204462151, 0.7265203481355702, 0.7273286198857573, 0.728188927301463, 0.7288849734080315, 0.7296629068331169, 0.7304950659162588, 0.7310848745385673, 0.7317811220212933, 0.7325820468902026, 0.7332685853135632, 0.7338414244343464, 0.7345432718995404, 0.7352551332466489, 0.7358677978555509, 0.7364346994859728, 0.7371168076023676, 0.7377261899275168, 0.7383453281329937, 0.7389186450194019, 0.7394851942134499, 0.7401483067216076, 0.7407067154078647, 0.7412163874849477, 0.7418163526177826, 0.7424625610325575, 0.7429147260826008]"
   ]
  },
  {
   "cell_type": "code",
   "execution_count": 52,
   "id": "protecting-mandate",
   "metadata": {
    "scrolled": false
   },
   "outputs": [
    {
     "data": {
      "image/png": "[encoded data removed]",
      "text/plain": [
       "<Figure size 432x288 with 1 Axes>"
      ]
     },
     "metadata": {
      "needs_background": "light"
     },
     "output_type": "display_data"
    }
   ],
   "source": [
    "all_ratios = ratios + ratios_10_to_100\n",
    "plot_function(range(len(all_ratios)), all_ratios)"
   ]
  },
  {
   "cell_type": "markdown",
   "id": "careful-color",
   "metadata": {},
   "source": [
    "Let's zoom out a bit"
   ]
  },
  {
   "cell_type": "code",
   "execution_count": 77,
   "id": "noted-passion",
   "metadata": {},
   "outputs": [],
   "source": [
    "\n",
    "# LONG RUNNING CODE - precomputed below\n",
    "#\n",
    "# ratios_100_to_10000 = []\n",
    "# trials = 1000\n",
    "# for i in range(100,10000,200):\n",
    "#     counts = get_counts_sample(i, trials)\n",
    "#     tot = sum( (math.log(k,2)*v for k,v in counts.items()))\n",
    "#     logk = tot/trials\n",
    "#     logn = math.log(i, 2)\n",
    "#     ratios_50_to_1000.append(logk/logn)\n",
    "#     print(i, ratios_100_to_10000[-1], end=\" \")\n",
    "# print()\n",
    "# print(ratios_100_to_10000)\n",
    "\n",
    "# PRECOMPUTED\n",
    "ratios_100_to_10000 = [0.7435188917844668, 0.7912914039072104, 0.8083028326564489, 0.8180772184216755, 0.824761130148988, 0.8296369193091881, 0.8336187942767869, 0.8368686699666862, 0.8395226155075796, 0.8419193033136153, 0.8440290697714874, 0.8458032550194391, 0.8474737785682188, 0.8488549372534505, 0.850266968708888, 0.8515339748267394, 0.8526056919045018, 0.8537132697692204, 0.8547556614712053, 0.8556223141437804, 0.8565208815251366, 0.857305023386406, 0.858090537016405, 0.8588003157033838, 0.8595234837547951, 0.8601527214763202, 0.8608160377653411, 0.8613380995570887, 0.8619977514357787, 0.8624836970864538, 0.863023523549754, 0.8635562899048698, 0.8640334142786823, 0.864514106591703, 0.8649384443428468, 0.8652982113911186, 0.8657555645920039, 0.8662128193443533, 0.8665682980515801, 0.8669709535689533, 0.8673694819351296, 0.8677027427485383, 0.868033020800884, 0.8683602061811344, 0.8687316992013866, 0.8690274719026654, 0.8693329994365412, 0.8696256241940108, 0.8699445352593103, 0.8702537250704716]"
   ]
  },
  {
   "cell_type": "code",
   "execution_count": 78,
   "id": "conventional-religion",
   "metadata": {
    "scrolled": true
   },
   "outputs": [
    {
     "data": {
      "image/png": "[encoded data removed]",
      "text/plain": [
       "<Figure size 432x288 with 1 Axes>"
      ]
     },
     "metadata": {
      "needs_background": "light"
     },
     "output_type": "display_data"
    }
   ],
   "source": [
    "plot_function(range(len(ratios_100_to_10000)), ratios_100_to_10000)"
   ]
  },
  {
   "cell_type": "markdown",
   "id": "overall-trick",
   "metadata": {},
   "source": [
    "This curve looks like is approaching 1. I.E. that the `log(number of queues)` is approaching `log(n)`. We know that the number of queues in the worst case will be `n/2` and the `log(n/2)` is equal to `log(n)-1`. Certainly if the average case was equal to the worst case we would expect `log(number of queues)` to approach `log(n)` for large n. But there shoudl be many better cases than the worst case so why do we see this behaviour?"
   ]
  },
  {
   "cell_type": "markdown",
   "id": "judicial-heath",
   "metadata": {},
   "source": [
    "# How is the number of Queues Inherent in a Given Permutation Distributed?\n",
    "\n",
    "Below we graph the distribution of the number of queues in 100,000 random sample permutations of a list of length 100. We find that that the distribution looks similar to a binomial or normal distribution and that the center of the distribution is at approximately 30 (i.e. the most commone value for the lengths of the queues is around the value 30).\n",
    "\n",
    "If we assume this curve is normal then we can conclude that k (the number of queues) is O(n) and so for larger numbers of n, `log(k)` will approach `log(n)`"
   ]
  },
  {
   "cell_type": "code",
   "execution_count": 54,
   "id": "involved-albany",
   "metadata": {
    "scrolled": true
   },
   "outputs": [
    {
     "data": {
      "image/png": "[encoded data removed]",
      "text/plain": [
       "<Figure size 432x288 with 1 Axes>"
      ]
     },
     "metadata": {
      "needs_background": "light"
     },
     "output_type": "display_data"
    }
   ],
   "source": [
    "c100 = get_counts_sample(100, 100000)\n",
    "c100 = [(k,v) for k,v in c100.items()]\n",
    "c100.sort()\n",
    "plot_function([k for k,v in c100], [v for k,v in c100])"
   ]
  },
  {
   "cell_type": "code",
   "execution_count": 162,
   "id": "fallen-tomato",
   "metadata": {},
   "outputs": [
    {
     "name": "stdout",
     "output_type": "stream",
     "text": [
      "[(1, 1), (2, 1), (3, 1), (4, 1), (5, 1)]\n",
      "[(3, 3), (3, 1), (4, 1), (4, 1), (5, 1)]\n"
     ]
    }
   ],
   "source": [
    "def f(a):\n",
    "    mx = a[0]\n",
    "    mn = a[0]\n",
    "    results = [(a[0], a[0])]\n",
    "    for i in range(1, len(a)):\n",
    "        if a[i] > results[-1][0]:\n",
    "            results.append((a[i], results[-1][1]))\n",
    "        elif a[i] < results[-1][1]:\n",
    "            results.append((results[-1][0], a[i]))\n",
    "        else:\n",
    "            results.append((results[-1][0], results[-1][1]))\n",
    "    return results\n",
    "\n",
    "print(f([1,2,3,4,5]))\n",
    "print(f([3,1,4,2,5]))"
   ]
  },
  {
   "cell_type": "markdown",
   "id": "danish-geography",
   "metadata": {},
   "source": [
    "do the opposite to build BST - if its in the middle put it at the end, if its at the end start a new one"
   ]
  }
 ],
 "metadata": {
  "kernelspec": {
   "display_name": "Python 3",
   "language": "python",
   "name": "python3"
  },
  "language_info": {
   "codemirror_mode": {
    "name": "ipython",
    "version": 3
   },
   "file_extension": ".py",
   "mimetype": "text/x-python",
   "name": "python",
   "nbconvert_exporter": "python",
   "pygments_lexer": "ipython3",
   "version": "3.8.5"
  }
 },
 "nbformat": 4,
 "nbformat_minor": 5
}
