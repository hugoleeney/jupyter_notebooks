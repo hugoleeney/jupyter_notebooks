{
 "cells": [
  {
   "cell_type": "code",
   "execution_count": 38,
   "id": "oriental-exhibit",
   "metadata": {},
   "outputs": [
    {
     "name": "stdout",
     "output_type": "stream",
     "text": [
      "2\n",
      "3\n",
      "5\n",
      "7\n",
      "11\n",
      "13\n",
      "17\n",
      "19\n",
      "23\n",
      "29\n",
      "31\n",
      "37\n",
      "41\n",
      "43\n",
      "47\n",
      "53\n",
      "59\n",
      "61\n",
      "67\n",
      "71\n"
     ]
    }
   ],
   "source": [
    "from functools import lru_cache\n",
    "\n",
    "def nats(i):\n",
    "    yield i\n",
    "    yield from nats(i+1)\n",
    "\n",
    "def sieve(s):\n",
    "    n = next(s)\n",
    "    yield n\n",
    "    yield from sieve(i for i in s if i%n != 0)\n",
    "\n",
    "\n",
    "class LazySieve():\n",
    "    \n",
    "    def __init__(self):\n",
    "        self.g = sieve(nats(2))\n",
    "        self.primes = []\n",
    "    \n",
    "    @lru_cache(None)\n",
    "    def prime(self, i):\n",
    "        while i > len(self.primes)-1:\n",
    "            self.primes.append(next(self.g))\n",
    "        return self.primes[i]\n",
    "\n",
    "ls = LazySieve()\n",
    "for i in range(20):\n",
    "    print(ls.prime(i))"
   ]
  },
  {
   "cell_type": "code",
   "execution_count": 39,
   "id": "associate-atmosphere",
   "metadata": {},
   "outputs": [
    {
     "data": {
      "text/plain": [
       "[1, 2, 3, 4]"
      ]
     },
     "execution_count": 39,
     "metadata": {},
     "output_type": "execute_result"
    }
   ],
   "source": [
    "from functools import reduce\n",
    "\n",
    "\n",
    "class PrimeSort():\n",
    "    \n",
    "    def __init__(self, a):\n",
    "        self.a = a\n",
    "        self.sieve = LazySieve()\n",
    "        self.sieve.prime(len(a))\n",
    "        \n",
    "    def get_code(self, a):\n",
    "        return reduce(lambda x, y: x*y, (self.sieve.prime(i) for i in a))\n",
    "        \n",
    "    def prime_sort(self):\n",
    "        code = self.get_code(a)\n",
    "        found = []\n",
    "        i = 0\n",
    "        while len(found) < len(self.a):\n",
    "            p = self.sieve.prime(i)\n",
    "            if code % self.sieve.prime(i) == 0:\n",
    "                found.append(i)\n",
    "            i += 1\n",
    "        return found\n",
    "\n",
    "    \n",
    "ps = PrimeSort([2,4,3,1])\n",
    "ps.prime_sort()"
   ]
  }
 ],
 "metadata": {
  "kernelspec": {
   "display_name": "Python 3",
   "language": "python",
   "name": "python3"
  },
  "language_info": {
   "codemirror_mode": {
    "name": "ipython",
    "version": 3
   },
   "file_extension": ".py",
   "mimetype": "text/x-python",
   "name": "python",
   "nbconvert_exporter": "python",
   "pygments_lexer": "ipython3",
   "version": "3.8.5"
  }
 },
 "nbformat": 4,
 "nbformat_minor": 5
}
