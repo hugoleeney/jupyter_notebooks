{
 "cells": [
  {
   "cell_type": "code",
   "execution_count": null,
   "id": "arctic-recipient",
   "metadata": {},
   "outputs": [],
   "source": [
    "import math\n",
    "\n",
    "\n",
    "class BinaryTree():\n",
    "    def __init__(self, values):\n",
    "        '''\n",
    "        values must be > 0\n",
    "        '''\n",
    "        self.tree = [0]\n",
    "        for i in values:\n",
    "            self.insert(i)\n",
    "        self.buffer\n",
    "            \n",
    "    def insert(self, val):\n",
    "        i = 0\n",
    "        while self.tree[i] != 0:\n",
    "            if val < self.tree[i]:\n",
    "                i = (2*i)+1\n",
    "            else:\n",
    "                i = (2*i)+2\n",
    "            if i >= len(self.tree):\n",
    "                self.tree.extend([0]*(i-len(self.tree)+1))\n",
    "        self.tree[i] = val\n",
    "    \n",
    "    def depth(self):\n",
    "        return math.floor(math.log((2-1)*len(self.tree), 2))\n",
    "        \n"
   ]
  }
 ],
 "metadata": {
  "kernelspec": {
   "display_name": "Python 3",
   "language": "python",
   "name": "python3"
  },
  "language_info": {
   "codemirror_mode": {
    "name": "ipython",
    "version": 3
   },
   "file_extension": ".py",
   "mimetype": "text/x-python",
   "name": "python",
   "nbconvert_exporter": "python",
   "pygments_lexer": "ipython3",
   "version": "3.8.5"
  }
 },
 "nbformat": 4,
 "nbformat_minor": 5
}
