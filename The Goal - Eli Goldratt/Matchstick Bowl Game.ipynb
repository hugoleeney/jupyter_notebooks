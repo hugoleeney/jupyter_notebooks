{
 "cells": [
  {
   "cell_type": "markdown",
   "id": "expected-accommodation",
   "metadata": {},
   "source": [
    "# Introduction\n",
    "\n",
    "In The Goal by Eli Goldratt the main character (Alex) takes his son's scout troupe on a hiking expedition. He eventually will have an epiphany about how his manufacturing plant should work based on how the column of scouts behaves on the trail (the distance beween first and last scout constantly grows).\n",
    "\n",
    "When they stop for lunch he has already begun to have insights and he plays a game with several scouts where each scout is in charge of a bowl and they have a die between them. The scouts take it in turn to roll the die. The number they roll is the number of matches they pass from their bowl to their neighbour's bowl in the 'production' line. If they have less matches than the number on the die they can only pass all of the matches that they have.\n",
    "\n",
    "Alex's thinking first proposes that the average number of matches coming off the assembly line should be the average number of matches that a single bowl produces i.e. 3.5. To many readers with some probability skills this will not feel right. Any roll less 4 will inhibit the downstream bowls from yielding more that 3.5 matches and so the number of matches moved will skew below 3. Indeed this is the conclusion that Goldratt (and Alex) makes in the book. Here we test that conclusion with some simulations.\n",
    "\n",
    "In the first experiment below we simulate such a game as happened in the book.\n"
   ]
  },
  {
   "cell_type": "markdown",
   "id": "compressed-polls",
   "metadata": {},
   "source": [
    "## Helper Plot Function"
   ]
  },
  {
   "cell_type": "code",
   "execution_count": 3,
   "id": "saving-handy",
   "metadata": {},
   "outputs": [],
   "source": [
    "import matplotlib.pyplot as plt\n",
    "import math\n",
    "\n",
    "\n",
    "def plot_function(f, rg, title=\"\", xlabel=\"\", ylabel=\"\", of_x=True):\n",
    "    fig, ax = plt.subplots()\n",
    "    data = [(x, f(x) if of_x else f()) for x in rg]\n",
    "    ax.plot(\n",
    "        [x[0] for x in data], \n",
    "        [x[1] for x in data])\n",
    "    ax.set_title(title)\n",
    "    ax.set_xlabel(xlabel)\n",
    "    ax.set_ylabel(ylabel)\n",
    "    plt.show()"
   ]
  },
  {
   "cell_type": "markdown",
   "id": "damaged-ready",
   "metadata": {},
   "source": [
    "## Simulator for the Game"
   ]
  },
  {
   "cell_type": "code",
   "execution_count": 2,
   "id": "educated-submission",
   "metadata": {},
   "outputs": [],
   "source": [
    "import math\n",
    "import random\n",
    "from statistics import mean\n",
    "\n",
    "\n",
    "def match_game_1(simtimeunits=40):\n",
    "    \n",
    "    number_of_scouts = 6\n",
    "    \n",
    "    # start the bowls with 0 matches\n",
    "    bowls = [0] * number_of_scouts\n",
    "    \n",
    "    # first scout has infinte matches to move i.e. infinite materials in inventory\n",
    "    bowls[0] = math.inf\n",
    "    \n",
    "    total_produced = []\n",
    "    ave_rolls = []\n",
    "    ave_moved = []\n",
    "    \n",
    "    for i in range(simtimeunits):\n",
    "        rolls = []\n",
    "        moved = []\n",
    "        for i in range(number_of_scouts-1):\n",
    "            roll = random.randint(1,6)\n",
    "            rolls.append(roll)\n",
    "            matches_to_move = min(bowls[i], roll)\n",
    "            moved.append(matches_to_move)\n",
    "            bowls[i+1] += matches_to_move\n",
    "            bowls[i] -= matches_to_move\n",
    "        roll = random.randint(1,6)\n",
    "        rolls.append(roll)\n",
    "        matches_produced = min(bowls[-1], roll)\n",
    "        moved.append(matches_produced)\n",
    "        total_produced.append(matches_produced)\n",
    "        bowls[-1] -= matches_produced\n",
    "        ave_rolls.append(mean(rolls))\n",
    "        ave_moved.append(mean(moved))\n",
    "    return total_produced, ave_rolls, ave_moved\n",
    "    \n",
    "def average_output_after_simtimeunits(i):\n",
    "    return sum([sum(match_game_1(i)[0]) for j in range(200)])/200\n",
    "\n",
    "           "
   ]
  },
  {
   "cell_type": "markdown",
   "id": "serial-electricity",
   "metadata": {},
   "source": [
    "Lets warm up our brains! After 10 simulation cycles what kind of throughput do we get?"
   ]
  },
  {
   "cell_type": "code",
   "execution_count": 53,
   "id": "joint-television",
   "metadata": {},
   "outputs": [
    {
     "data": {
      "text/plain": [
       "22"
      ]
     },
     "execution_count": 53,
     "metadata": {},
     "output_type": "execute_result"
    }
   ],
   "source": [
    "sum(match_game_1(10)[0])"
   ]
  },
  {
   "cell_type": "markdown",
   "id": "distributed-manner",
   "metadata": {},
   "source": [
    "Lets run a bunch of those simulations and see what we get on average. We do 50 experiments."
   ]
  },
  {
   "cell_type": "code",
   "execution_count": 54,
   "id": "olive-violation",
   "metadata": {},
   "outputs": [
    {
     "name": "stdout",
     "output_type": "stream",
     "text": [
      "[25, 21, 20, 13, 25, 24, 21, 24, 20, 19, 20, 24, 25, 15, 30, 25, 20, 19, 22, 23, 23, 22, 27, 17, 24, 21, 27, 27, 20, 26, 18, 21, 26, 24, 21, 17, 23, 24, 21, 25, 18, 23, 20, 24, 21, 28, 15, 20, 18, 24]\n",
      "average 22\n"
     ]
    }
   ],
   "source": [
    "a = [sum(match_game_1(10)[0]) for x in range(50)]\n",
    "print(a)\n",
    "print('average', mean(a))"
   ]
  },
  {
   "cell_type": "markdown",
   "id": "enhanced-roots",
   "metadata": {},
   "source": [
    "In 10 cycles and an average production of 3.5 we would expect a throughput of 35. OK, so it looks like our system of production is way below that 'target' number.\n",
    "\n",
    "What about if we run the simulation for 20 cycles?"
   ]
  },
  {
   "cell_type": "code",
   "execution_count": 35,
   "id": "ahead-trance",
   "metadata": {},
   "outputs": [
    {
     "name": "stdout",
     "output_type": "stream",
     "text": [
      "[47, 52, 43, 49, 39, 50, 44, 46, 54, 46, 47, 53, 49, 50, 56, 56, 56, 43, 49, 46, 49, 48, 51, 50, 43, 48, 49, 44, 51, 40, 54, 61, 46, 55, 45, 50, 51, 45, 52, 52, 55, 46, 56, 47, 47, 51, 47, 47, 46, 49]\n",
      "average 49\n"
     ]
    }
   ],
   "source": [
    "a = [sum(match_game_1(20)[0]) for x in range(50)]\n",
    "print(a)\n",
    "print('average', mean(a))"
   ]
  },
  {
   "cell_type": "markdown",
   "id": "weighted-delivery",
   "metadata": {},
   "source": [
    "Hmmm. In 20 cycles we would expect 70.\n",
    "\n",
    "And 100?"
   ]
  },
  {
   "cell_type": "code",
   "execution_count": 36,
   "id": "declared-politics",
   "metadata": {},
   "outputs": [
    {
     "name": "stdout",
     "output_type": "stream",
     "text": [
      "[290, 285, 287, 300, 307, 295, 289, 286, 289, 299, 305, 303, 301, 284, 295, 302, 322, 307, 279, 303, 295, 291, 284, 292, 290, 285, 275, 281, 286, 289, 294, 295, 303, 298, 296, 297, 283, 277, 292, 306, 317, 305, 284, 300, 291, 317, 313, 309, 276, 295]\n",
      "average 294.88\n"
     ]
    }
   ],
   "source": [
    "a = [sum(match_game_1(100)[0]) for x in range(50)]\n",
    "print(a)\n",
    "print('average', mean(a))"
   ]
  },
  {
   "cell_type": "markdown",
   "id": "certified-transaction",
   "metadata": {},
   "source": [
    "Its easier if we graph the throughput as a function of time. We will do experiments for a range of simulation times from 10 to 200."
   ]
  },
  {
   "cell_type": "code",
   "execution_count": 7,
   "id": "trying-restriction",
   "metadata": {
    "scrolled": true
   },
   "outputs": [
    {
     "name": "stdout",
     "output_type": "stream",
     "text": [
      "[22.92, 49.58, 80.08, 109.92, 137.42, 168.78, 201.48, 234.54, 265.92, 296.12, 327.92, 360.2, 392.44, 423.58, 458.22, 489.32, 523.8, 550.9, 593.56]\n"
     ]
    },
    {
     "data": {
      "image/png": "[encoded data removed]",
      "text/plain": [
       "<Figure size 432x288 with 1 Axes>"
      ]
     },
     "metadata": {
      "needs_background": "light"
     },
     "output_type": "display_data"
    }
   ],
   "source": [
    "def average_total_throughput(i):\n",
    "    # i is the simulation time\n",
    "    return mean([sum(match_game_1(i)[0]) for x in range(50)])\n",
    "\n",
    "print([average_total_throughput(i) for i in range(10,200,10)])\n",
    "plot_function(average_total_throughput, range(10,200,10))"
   ]
  },
  {
   "cell_type": "markdown",
   "id": "selective-monitor",
   "metadata": {},
   "source": [
    "We find that the total throughput is linear with time. That is what we would expect. So can we conclude that Alex was completely correct?\n",
    "\n",
    "Well lets dig a little deeper. We see that in 10 cycles we get a throughput of about 22. That's about 2.2 per cycle on average. \n",
    "* 10 -> 22/10 = 2.2\n",
    "* 20 -> 50/20 = 2.5\n",
    "* 30 -> 80/30 = 2.666\n",
    "\n",
    "Could it be that the average throughput per cycle is going up? Lets graph average throughput per cycle."
   ]
  },
  {
   "cell_type": "code",
   "execution_count": 55,
   "id": "based-reputation",
   "metadata": {},
   "outputs": [
    {
     "data": {
      "image/png": "[encoded data removed]",
      "text/plain": [
       "<Figure size 432x288 with 1 Axes>"
      ]
     },
     "metadata": {
      "needs_background": "light"
     },
     "output_type": "display_data"
    }
   ],
   "source": [
    "def average_average_throughput_per_time(i):\n",
    "    # i is the simulation time\n",
    "    return mean([ mean(match_game_1(i)[0]) for x in range(50)])\n",
    "\n",
    "\n",
    "# print([average_average_throughput_per_time(i) for i in range(10,1000,10)])\n",
    "plot_function(average_average_throughput_per_time, range(10,1000,10))"
   ]
  },
  {
   "cell_type": "markdown",
   "id": "plastic-waterproof",
   "metadata": {},
   "source": [
    "That's very interesting. We can see that at the beginning the Throughput per time unit is terrible. However as we run the simulation longer it improves such that after 1000 cycles it is at 3.32 - not too far off 3.5.\n",
    "\n",
    "Lets run one big experiment on 100,000 cycles and see what the average throughput is."
   ]
  },
  {
   "cell_type": "code",
   "execution_count": 11,
   "id": "colored-gateway",
   "metadata": {},
   "outputs": [
    {
     "data": {
      "text/plain": [
       "3.48385"
      ]
     },
     "execution_count": 11,
     "metadata": {},
     "output_type": "execute_result"
    }
   ],
   "source": [
    "mean(match_game_1(100000)[0])"
   ]
  },
  {
   "cell_type": "markdown",
   "id": "ambient-trainer",
   "metadata": {},
   "source": [
    "Wow! Almost 3.5. In this case Goldratt was only partly right. He says that dependent events and statistical fluctuations will mean that the throughput will never be the average of the dice rolls. He is correct in saying that much. However, over a long period of time the throughput will approach that average. \n",
    "\n",
    "What the book suggests is that the throughput through each bowl in each turn is limited by the minimum dice roll in that turn - with 6 bowls you might think that approaches 1 and so the throughput should approach 1. It may be correct to say that it is a limiting factor but the implication goes too far. The throughput will never ever be more than that average number. However, bowls can accumulate matches from turns with bad rolls in which case a roll by a preceeding scout on any given turn may not have the devastating effect you might expect. One way to get a feel for this is to measure the average number of matches per bowl after a turn which we will do next.\n",
    "\n",
    "### On Intuition\n",
    "\n",
    "If your intuition is simply that the throughput will be the average of the dice rolls you are wrong. It is not that simple. The throughput will never be more than the average so it doesn't average out (i.e. up vs down).\n",
    "\n",
    "If your intuition is that the throughput will be subject to statistical fluctuations in dependent events you are right. But you also may be wrong in thinking that in this system over time the expected throughput per time unit will be the average.\n",
    "\n",
    "If your intution told you that the throughput will start out terrible but approach the average - never ever being higher than the average dice roll .. you are smarter than me."
   ]
  },
  {
   "cell_type": "markdown",
   "id": "favorite-stuart",
   "metadata": {},
   "source": [
    "# How Many Matches Accumulate in Bowls\n",
    "\n",
    "We modify the simulator above to track the number of matches in the bowls. We accumulate it as a sum per bowl."
   ]
  },
  {
   "cell_type": "code",
   "execution_count": 57,
   "id": "solar-richardson",
   "metadata": {},
   "outputs": [],
   "source": [
    "import math\n",
    "import random\n",
    "from statistics import mean\n",
    "\n",
    "\n",
    "def match_game_2(simtimeunits=40):\n",
    "    \n",
    "    number_of_scouts = 6\n",
    "    \n",
    "    # start the bowls with 0 matches\n",
    "    bowls = [0] * number_of_scouts\n",
    "    \n",
    "    # initialize the stats we are collecting\n",
    "    total_match_stats_per_bowl = [0] * number_of_scouts\n",
    "    \n",
    "    # first scout has infinte matches to move i.e. infinite materials in inventory\n",
    "    bowls[0] = math.inf\n",
    "    \n",
    "    for i in range(simtimeunits):\n",
    "        rolls = []\n",
    "        moved = []\n",
    "        for i in range(number_of_scouts-1):\n",
    "            roll = random.randint(1,6)\n",
    "            matches_to_move = min(bowls[i], roll)\n",
    "            bowls[i+1] += matches_to_move\n",
    "            bowls[i] -= matches_to_move\n",
    "        roll = random.randint(1,6)\n",
    "        matches_produced = min(bowls[-1], roll)\n",
    "        bowls[-1] -= matches_produced\n",
    "        \n",
    "        total_match_stats_per_bowl = [x+y for x,y in zip(total_match_stats_per_bowl, bowls)]\n",
    "    return total_match_stats_per_bowl\n",
    "\n"
   ]
  },
  {
   "cell_type": "markdown",
   "id": "united-lafayette",
   "metadata": {},
   "source": [
    "First lets look at some raw numbers. Here are the number of matches in a bowl on average during the course of a 1000 time unit simulation. Each line is a different simulation."
   ]
  },
  {
   "cell_type": "code",
   "execution_count": 37,
   "id": "stopped-bundle",
   "metadata": {
    "scrolled": false
   },
   "outputs": [
    {
     "name": "stdout",
     "output_type": "stream",
     "text": [
      "[inf, 25.374, 40.027, 34.066, 10.839, 15.274]\n",
      "[inf, 23.279, 16.884, 11.618, 9.389, 10.286]\n",
      "[inf, 37.168, 11.911, 11.261, 9.442, 14.168]\n",
      "[inf, 23.552, 24.681, 13.726, 31.761, 29.166]\n",
      "[inf, 31.804, 13.233, 12.29, 32.036, 13.241]\n",
      "[inf, 31.028, 33.908, 23.875, 13.817, 15.634]\n",
      "[inf, 25.352, 27.301, 15.711, 19.146, 42.492]\n",
      "[inf, 29.745, 15.566, 7.547, 20.652, 19.141]\n",
      "[inf, 41.537, 41.611, 13.513, 8.674, 14.498]\n",
      "[inf, 53.881, 24.201, 35.794, 20.694, 17.985]\n"
     ]
    }
   ],
   "source": [
    "for i in range(10):\n",
    "    print([x/1000 for x in match_game_2(1000)])"
   ]
  },
  {
   "cell_type": "markdown",
   "id": "ahead-jaguar",
   "metadata": {},
   "source": [
    "It is clear that the number of matches in a bowl is far greater than the 'target' average throughput of 3.5 - it is even greater than the maximum throughput of each bowl. This means that the number of matchsticks that a bowl is receiving is not the limiting factor. That is why the average throughput can approach 3.5 over time once the system starts compensating for the terrible start it had. The logic behind this is that a bowl is bounded on the low side by zero but not on the up side. Therefore by the balance of probabilities the dies will fall such that every bowl will acquire a net gain of matchsticks at some point and that net gain can only be eroded by the difference between the matches it receives and delivers to its neighbour and that is bounded at any point by 5 and is on average 0.\n",
    "\n",
    "In manufacturing language inventory is piling up at each station/machine but the throughput is limited by the average throughput. The problem here is operational cost, not throughput and how to decrease the cost without further reducing throughput.\n",
    "\n",
    "To explore a bit further we can look at the average of the number of matches in each bowl during the simulation over 100 trials."
   ]
  },
  {
   "cell_type": "code",
   "execution_count": 44,
   "id": "straight-family",
   "metadata": {},
   "outputs": [
    {
     "name": "stdout",
     "output_type": "stream",
     "text": [
      "[inf, 41.25289, 25.4312, 19.66583, 17.22492, 14.94255]\n"
     ]
    }
   ],
   "source": [
    "def get_average_number_matches_per_bowl_during_sim(i):\n",
    "    a = []\n",
    "    number_of_trials = 100\n",
    "    for _ in range(number_of_trials):\n",
    "        a.append([x/i for x in match_game_2(i)])\n",
    "    return [mean(x) for x in list(zip(*a))]\n",
    "\n",
    "print(get_average_number_matches_per_bowl_during_sim(1000))"
   ]
  },
  {
   "cell_type": "markdown",
   "id": "jewish-husband",
   "metadata": {},
   "source": [
    "We can see that the early bowls have a a much bigger backlog than the later bowls.\n",
    "\n",
    "Finally in this section we can graph the growth of the average number of matches in each bowl during the simulation."
   ]
  },
  {
   "cell_type": "code",
   "execution_count": 46,
   "id": "suffering-configuration",
   "metadata": {
    "scrolled": true
   },
   "outputs": [
    {
     "data": {
      "image/png": "[encoded data removed]",
      "text/plain": [
       "<Figure size 432x288 with 1 Axes>"
      ]
     },
     "metadata": {
      "needs_background": "light"
     },
     "output_type": "display_data"
    }
   ],
   "source": [
    "a = []\n",
    "\n",
    "for simlength in range(100,1000,100):\n",
    "    a.append(get_average_number_matches_per_bowl_during_sim(simlength))\n",
    "\n",
    "bowls = list(zip(*a))\n",
    "\n",
    "# add each bowl to graph\n",
    "fig, ax = plt.subplots()\n",
    "for bowl in bowls[1:]: # skip the infinite bowl\n",
    "    ax.plot(bowl)\n",
    "ax.set_title('growth of number of matches in each bowl during sim')\n",
    "ax.set_xlabel('simulation time')\n",
    "ax.set_ylabel('number of matches in given bowl')\n",
    "plt.show()\n"
   ]
  },
  {
   "cell_type": "markdown",
   "id": "known-blind",
   "metadata": {},
   "source": [
    "Of course the backlog of matchsticks is growing in the first bowls quicker than at the last bowls."
   ]
  },
  {
   "cell_type": "markdown",
   "id": "fancy-worst",
   "metadata": {},
   "source": [
    "# What if you can roll 0?\n",
    "\n",
    "Finally we want to answer a question that Alex couldn't answer on the hike because he only had a six sided die. What if a scout could also roll a zero? How does that effect throughput?"
   ]
  },
  {
   "cell_type": "code",
   "execution_count": 48,
   "id": "experimental-modeling",
   "metadata": {
    "scrolled": true
   },
   "outputs": [
    {
     "name": "stdout",
     "output_type": "stream",
     "text": [
      "[21.58, 50.56, 78.44, 107.9, 139.74, 168.94, 200.6, 233.46, 263.12, 294.82, 328.58, 360.14, 391.78, 423.96, 459.98, 493.2, 522.54, 555.8, 588.1]\n"
     ]
    },
    {
     "data": {
      "image/png": "[encoded data removed]",
      "text/plain": [
       "<Figure size 432x288 with 1 Axes>"
      ]
     },
     "metadata": {
      "needs_background": "light"
     },
     "output_type": "display_data"
    },
    {
     "name": "stdout",
     "output_type": "stream",
     "text": [
      "[2.132, 2.412, 2.5986666666666665, 2.6785, 2.7640000000000002, 2.809, 2.8217142857142856, 2.90525, 2.9384444444444444, 2.952, 2.987090909090909, 2.9645, 3.0236923076923077, 3.0402857142857145, 3.0369333333333333, 3.0735, 3.0871764705882354, 3.0955555555555554, 3.111263157894737, 3.1113, 3.1333333333333333, 3.1163636363636362, 3.130521739130435, 3.1471666666666667, 3.12664, 3.1364615384615386, 3.153703703703704, 3.1640714285714284, 3.165793103448276, 3.1770666666666667, 3.1661290322580644, 3.1843125, 3.171818181818182, 3.204705882352941, 3.1936, 3.196, 3.1983783783783784, 3.2301052631578946, 3.218153846153846, 3.2122, 3.2146829268292683, 3.213142857142857, 3.2310232558139536, 3.243227272727273, 3.238088888888889, 3.237391304347826, 3.23, 3.2263333333333333, 3.253020408163265, 3.23788, 3.247843137254902, 3.2553076923076922, 3.25411320754717, 3.2634814814814814, 3.2586181818181816, 3.258642857142857, 3.251122807017544, 3.2595862068965515, 3.254542372881356, 3.2638333333333334, 3.2552786885245903, 3.264774193548387, 3.2759682539682538, 3.2635, 3.261230769230769, 3.275181818181818, 3.282686567164179, 3.272235294117647, 3.293449275362319, 3.2854285714285716, 3.289211267605634, 3.277972222222222, 3.2853424657534247, 3.2839729729729727, 3.2928, 3.290947368421053, 3.282831168831169, 3.2985641025641024, 3.3048607594936708, 3.299375, 3.2977283950617284, 3.2852926829268294, 3.3013975903614456, 3.3000238095238097, 3.3003529411764707, 3.305697674418605, 3.311034482758621, 3.297340909090909, 3.30438202247191, 3.304111111111111, 3.301142857142857, 3.301630434782609, 3.3091612903225807, 3.3063617021276595, 3.3089894736842105, 3.302875, 3.3157731958762886, 3.3170408163265304, 3.31579797979798]\n"
     ]
    },
    {
     "data": {
      "image/png": "[encoded data removed]",
      "text/plain": [
       "<Figure size 432x288 with 1 Axes>"
      ]
     },
     "metadata": {
      "needs_background": "light"
     },
     "output_type": "display_data"
    }
   ],
   "source": [
    "def match_game_3(simtimeunits=40):\n",
    "    \n",
    "    number_of_scouts = 6\n",
    "    \n",
    "    # start the bowls with 0 matches\n",
    "    bowls = [0] * number_of_scouts\n",
    "    \n",
    "    # first scout has infinte matches to move i.e. infinite materials in inventory\n",
    "    bowls[0] = math.inf\n",
    "    \n",
    "    total_produced = []\n",
    "    \n",
    "    ave_rolls = []\n",
    "    ave_moved = []\n",
    "    for i in range(simtimeunits):\n",
    "        rolls = []\n",
    "        moved = []\n",
    "        for i in range(number_of_scouts-1):\n",
    "            roll = random.randint(0,6)\n",
    "            rolls.append(roll)\n",
    "            matches_to_move = min(bowls[i], roll)\n",
    "            moved.append(matches_to_move)\n",
    "            bowls[i+1] += matches_to_move\n",
    "            bowls[i] -= matches_to_move\n",
    "        roll = random.randint(0,6)\n",
    "        rolls.append(roll)\n",
    "        matches_produced = min(bowls[-1], roll)\n",
    "        moved.append(matches_produced)\n",
    "        total_produced.append(matches_produced)\n",
    "        bowls[-1] -= matches_produced\n",
    "        ave_rolls.append(mean(rolls))\n",
    "        ave_moved.append(mean(moved))\n",
    "    return total_produced, ave_rolls, ave_moved\n",
    "\n",
    "def average_total_throughput_3(i):\n",
    "    # i is the simulation time\n",
    "    return mean([sum(match_game_1(i)[0]) for x in range(50)])\n",
    "\n",
    "plot_function(average_total_throughput_3, range(10,200,10))\n",
    "\n",
    "\n",
    "def average_average_throughput_per_time_3(i):\n",
    "    # i is the simulation time\n",
    "    return mean([ mean(match_game_1(i)[0]) for x in range(50)])\n",
    "\n",
    "plot_function(average_average_throughput_per_time_3, range(10,1000,10))"
   ]
  },
  {
   "cell_type": "markdown",
   "id": "scenic-whale",
   "metadata": {},
   "source": [
    "Funnily enough in the book one of the scouts declares to his peer who is dismayed by the initial lack of progress:\n",
    "\n",
    "> Don't worry we'll catch up!\n",
    "\n",
    "Given enough time they NEARLY would have, even if their die had a side with zero on it."
   ]
  }
 ],
 "metadata": {
  "kernelspec": {
   "display_name": "Python 3",
   "language": "python",
   "name": "python3"
  },
  "language_info": {
   "codemirror_mode": {
    "name": "ipython",
    "version": 3
   },
   "file_extension": ".py",
   "mimetype": "text/x-python",
   "name": "python",
   "nbconvert_exporter": "python",
   "pygments_lexer": "ipython3",
   "version": "3.8.5"
  }
 },
 "nbformat": 4,
 "nbformat_minor": 5
}
