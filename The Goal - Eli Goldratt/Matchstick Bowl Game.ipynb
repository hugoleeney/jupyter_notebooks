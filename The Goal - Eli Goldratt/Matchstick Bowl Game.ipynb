{
 "cells": [
  {
   "cell_type": "markdown",
   "id": "expected-accommodation",
   "metadata": {},
   "source": [
    "# Introduction\n",
    "\n",
    "In The Goal by Eli Goldratt the main character (Alex) takes his son's scout troupe on a hiking expedition. He eventually will have an epiphany about how his manufacturing plant should work based on how the column of scouts behaves on the trail (the distance beween first and last scout constantly grows).\n",
    "\n",
    "When they stop for lunch he has already begun to have insights and he plays a game with several scouts where each scout is in charge of a bowl and they have a die between them. The scouts take it in turn to roll the die. The number they roll is the number of matches they pass from their bowl to their neighbour's bowl in the 'production' line. If they have less matches than the number on the die they can only pass all of the matches that they have.\n",
    "\n",
    "Alex's thinking first proposes that the average number of matches coming off the assembly line should be the average number of matches that a single bowl produces i.e. 3.5. To some readers this will already not feel right. Any roll less 4 will inhibit the downstream bowls from yielding more that 3.5 matches and so the number of matches moved will skew below 3. Indeed this is the conclusion that Goldratt (and Alex) makes in the book after the game is finished. Here we test that conclusion with some simulations.\n",
    "\n",
    "In the first experiment below we simulate such a game as happened in the book.\n"
   ]
  },
  {
   "cell_type": "markdown",
   "id": "compressed-polls",
   "metadata": {},
   "source": [
    "## Helper Plot Function"
   ]
  },
  {
   "cell_type": "code",
   "execution_count": 11,
   "id": "saving-handy",
   "metadata": {},
   "outputs": [],
   "source": [
    "import matplotlib.pyplot as plt\n",
    "import math\n",
    "\n",
    "\n",
    "def plot_function(f, rg, title=\"\", xlabel=\"\", ylabel=\"\", of_x=True):\n",
    "    fig, ax = plt.subplots()\n",
    "    data = [(x, f(x) if of_x else f()) for x in rg]\n",
    "    ax.plot(\n",
    "        [x[0] for x in data], \n",
    "        [x[1] for x in data])\n",
    "    ax.set_title(title)\n",
    "    ax.set_xlabel(xlabel)\n",
    "    ax.set_ylabel(ylabel)\n",
    "    plt.show()"
   ]
  },
  {
   "cell_type": "markdown",
   "id": "damaged-ready",
   "metadata": {},
   "source": [
    "## Simulator for the Game"
   ]
  },
  {
   "cell_type": "code",
   "execution_count": 13,
   "id": "educated-submission",
   "metadata": {},
   "outputs": [],
   "source": [
    "import math\n",
    "import random\n",
    "from statistics import mean\n",
    "\n",
    "\n",
    "def match_game_1(simtimeunits=40):\n",
    "    \n",
    "    number_of_scouts = 6\n",
    "    \n",
    "    # start the bowls with 0 matches\n",
    "    bowls = [0] * number_of_scouts\n",
    "    \n",
    "    # first scout has infinte matches to move i.e. infinite materials in inventory\n",
    "    bowls[0] = math.inf\n",
    "    \n",
    "    total_produced = []\n",
    "    ave_rolls = []\n",
    "    ave_moved = []\n",
    "    \n",
    "    for i in range(simtimeunits):\n",
    "        rolls = []\n",
    "        moved = []\n",
    "        for i in range(number_of_scouts-1):\n",
    "            roll = random.randint(1,6)\n",
    "            rolls.append(roll)\n",
    "            matches_to_move = min(bowls[i], roll)\n",
    "            moved.append(matches_to_move)\n",
    "            bowls[i+1] += matches_to_move\n",
    "            bowls[i] -= matches_to_move\n",
    "        roll = random.randint(1,6)\n",
    "        rolls.append(roll)\n",
    "        matches_produced = min(bowls[-1], roll)\n",
    "        moved.append(matches_produced)\n",
    "        total_produced.append(matches_produced)\n",
    "        bowls[-1] -= matches_produced\n",
    "        ave_rolls.append(mean(rolls))\n",
    "        ave_moved.append(mean(moved))\n",
    "    return total_produced, ave_rolls, ave_moved\n",
    "    \n",
    "def average_output_after_simtimeunits(i):\n",
    "    return sum([sum(match_game_1(i)[0]) for j in range(200)])/200\n",
    "\n",
    "           "
   ]
  },
  {
   "cell_type": "markdown",
   "id": "serial-electricity",
   "metadata": {},
   "source": [
    "Lets start simply. After 10 simulation cycles what kind of throughput do we get?"
   ]
  },
  {
   "cell_type": "code",
   "execution_count": 16,
   "id": "joint-television",
   "metadata": {},
   "outputs": [
    {
     "name": "stdout",
     "output_type": "stream",
     "text": [
      "example throughput= 20\n"
     ]
    }
   ],
   "source": [
    "print(\"example throughput=\", sum(match_game_1(10)[0]))"
   ]
  },
  {
   "cell_type": "markdown",
   "id": "distributed-manner",
   "metadata": {},
   "source": [
    "Lets run a bunch of those simulations and see what we get on average. We do 50 experiments."
   ]
  },
  {
   "cell_type": "code",
   "execution_count": 17,
   "id": "olive-violation",
   "metadata": {},
   "outputs": [
    {
     "name": "stdout",
     "output_type": "stream",
     "text": [
      "[26, 24, 24, 18, 19, 19, 22, 21, 25, 24, 18, 28, 25, 23, 28, 23, 23, 24, 19, 18, 19, 22, 19, 16, 16, 25, 16, 16, 20, 19, 22, 24, 19, 16, 28, 14, 19, 25, 18, 21, 23, 22, 21, 22, 24, 28, 24, 26, 21, 28]\n",
      "average= 21.68\n"
     ]
    }
   ],
   "source": [
    "a = [sum(match_game_1(10)[0]) for x in range(50)]\n",
    "print(a)\n",
    "print('average=', mean(a))"
   ]
  },
  {
   "cell_type": "markdown",
   "id": "enhanced-roots",
   "metadata": {},
   "source": [
    "In 10 cycles and an average production of 3.5 we would expect a throughput of 35. OK, so it looks like our system of production is way below that 'target' number.\n",
    "\n",
    "What about if we run the simulation for 20 cycles?"
   ]
  },
  {
   "cell_type": "code",
   "execution_count": 18,
   "id": "ahead-trance",
   "metadata": {},
   "outputs": [
    {
     "name": "stdout",
     "output_type": "stream",
     "text": [
      "[56, 57, 47, 57, 54, 46, 50, 51, 56, 51, 51, 46, 50, 55, 39, 53, 51, 44, 50, 51, 37, 47, 52, 52, 46, 49, 45, 58, 51, 38, 47, 55, 54, 45, 50, 44, 48, 50, 44, 49, 46, 44, 56, 52, 46, 49, 51, 55, 58, 45]\n",
      "average= 49.56\n"
     ]
    }
   ],
   "source": [
    "a = [sum(match_game_1(20)[0]) for x in range(50)]\n",
    "print(a)\n",
    "print('average=', mean(a))"
   ]
  },
  {
   "cell_type": "markdown",
   "id": "weighted-delivery",
   "metadata": {},
   "source": [
    "Hmmm. In 20 cycles we would expect 70.\n",
    "\n",
    "And 100?"
   ]
  },
  {
   "cell_type": "code",
   "execution_count": 19,
   "id": "declared-politics",
   "metadata": {},
   "outputs": [
    {
     "name": "stdout",
     "output_type": "stream",
     "text": [
      "[293, 292, 314, 304, 284, 288, 289, 301, 290, 304, 281, 302, 284, 303, 293, 294, 301, 306, 298, 278, 308, 283, 295, 292, 306, 292, 301, 289, 322, 291, 290, 288, 310, 301, 298, 294, 309, 286, 309, 309, 293, 295, 299, 304, 300, 308, 275, 291, 294, 301]\n",
      "average= 296.64\n"
     ]
    }
   ],
   "source": [
    "a = [sum(match_game_1(100)[0]) for x in range(50)]\n",
    "print(a)\n",
    "print('average=', mean(a))"
   ]
  },
  {
   "cell_type": "markdown",
   "id": "certified-transaction",
   "metadata": {},
   "source": [
    "Its easier if we graph the throughput as a function of time. We will do experiments for a range of simulation times from 10 to 200."
   ]
  },
  {
   "cell_type": "code",
   "execution_count": 20,
   "id": "trying-restriction",
   "metadata": {
    "scrolled": true
   },
   "outputs": [
    {
     "name": "stdout",
     "output_type": "stream",
     "text": [
      "[21.68, 48.9, 76.9, 109.14, 138.8, 170.14, 204.64, 233.46, 263.02, 297.06, 330.66, 358.06, 389.32, 421.1, 459.54, 489.92, 526.14, 554.64, 586.78]\n"
     ]
    },
    {
     "data": {
      "image/png": "[encoded data removed]",
      "text/plain": [
       "<Figure size 432x288 with 1 Axes>"
      ]
     },
     "metadata": {
      "needs_background": "light"
     },
     "output_type": "display_data"
    }
   ],
   "source": [
    "def average_total_throughput(i):\n",
    "    # i is the simulation time\n",
    "    return mean([sum(match_game_1(i)[0]) for x in range(50)])\n",
    "\n",
    "print([average_total_throughput(i) for i in range(10,200,10)])\n",
    "plot_function(average_total_throughput, range(10,200,10), xlabel=\"Simulation Time\", ylabel=\"Throughput\")"
   ]
  },
  {
   "cell_type": "markdown",
   "id": "selective-monitor",
   "metadata": {},
   "source": [
    "We find that the total throughput is linear with time. That is what we would expect. So can we conclude that Alex was completely correct?\n",
    "\n",
    "Well lets dig a little deeper. We see that in 10 cycles we get a throughput of about 22. That's about 2.2 per cycle on average. \n",
    "* 10 -> 22/10 = 2.2\n",
    "* 20 -> 50/20 = 2.5\n",
    "* 30 -> 80/30 = 2.666\n",
    "\n",
    "Could it be that the average throughput per cycle is going up? Lets graph average throughput per cycle."
   ]
  },
  {
   "cell_type": "code",
   "execution_count": null,
   "id": "based-reputation",
   "metadata": {},
   "outputs": [],
   "source": [
    "def average_average_throughput_per_time(i):\n",
    "    # i is the simulation time\n",
    "    return mean([ mean(match_game_1(i)[0]) for x in range(50)])\n",
    "\n",
    "\n",
    "# print([average_average_throughput_per_time(i) for i in range(10,1000,10)])\n",
    "plot_function(average_average_throughput_per_time, range(10,1000,10), xlabel=\"Simulation Time\", ylabel=\"Thoughput per Cycle\")"
   ]
  },
  {
   "cell_type": "markdown",
   "id": "plastic-waterproof",
   "metadata": {},
   "source": [
    "That's very interesting. We can see that at the beginning the Throughput per time unit is terrible. However as we run the simulation longer it improves such that after 1000 cycles it is at 3.32 - not too far off 3.5.\n",
    "\n",
    "Lets run one big experiment on 100,000 cycles and see what the average throughput is."
   ]
  },
  {
   "cell_type": "code",
   "execution_count": 11,
   "id": "colored-gateway",
   "metadata": {},
   "outputs": [
    {
     "data": {
      "text/plain": [
       "3.48385"
      ]
     },
     "execution_count": 11,
     "metadata": {},
     "output_type": "execute_result"
    }
   ],
   "source": [
    "mean(match_game_1(100000)[0])"
   ]
  },
  {
   "cell_type": "markdown",
   "id": "ambient-trainer",
   "metadata": {},
   "source": [
    "Wow! Almost 3.5. In this case Goldratt was only partly right. He says that dependent events and statistical fluctuations will mean that the throughput will never be the average of the dice rolls. He is correct in saying that much. However, over a long period of time the throughput will approach that average. \n",
    "\n",
    "What the book suggests is that the throughput through each bowl in each turn is limited by the minimum dice roll in that turn - with 6 bowls you might think that approaches 1 and so the throughput should approach 1. It may be correct to say that it is a limiting factor but the implication goes too far. The throughput will never ever be more than that average number. However, bowls can accumulate matches from turns with bad rolls in which case a roll by a preceeding scout on any given turn may not have the devastating effect you might expect. One way to get a feel for this is to measure the average number of matches per bowl after a turn which we will do next.\n",
    "\n",
    "### On Intuition\n",
    "\n",
    "If your intuition is simply that the throughput will be the average of the dice rolls you are wrong. It is not that simple. The throughput will never be more than the average so it doesn't average out (i.e. up vs down).\n",
    "\n",
    "If your intuition is that the throughput will be subject to statistical fluctuations in dependent events you are right. But you also may be wrong in thinking that in this system over time the expected throughput per time unit will be the average.\n",
    "\n",
    "If your intution told you that the throughput will start out terrible but approach the average - never ever being higher than the average dice roll .. you are smarter than me."
   ]
  },
  {
   "cell_type": "markdown",
   "id": "favorite-stuart",
   "metadata": {},
   "source": [
    "# How Many Matches Accumulate in Bowls\n",
    "\n",
    "Bowls do not have infinite capacity - neither do warehouses or work stations storing inventory. We modify the simulator above to track the number of matches in the bowls. We accumulate it as a sum per bowl."
   ]
  },
  {
   "cell_type": "code",
   "execution_count": 3,
   "id": "solar-richardson",
   "metadata": {},
   "outputs": [],
   "source": [
    "import math\n",
    "import random\n",
    "from statistics import mean\n",
    "\n",
    "\n",
    "def match_game_2(simtimeunits=40):\n",
    "    \n",
    "    number_of_scouts = 6\n",
    "    \n",
    "    # start the bowls with 0 matches\n",
    "    bowls = [0] * number_of_scouts\n",
    "    \n",
    "    # initialize the stats we are collecting\n",
    "    total_match_stats_per_bowl = [0] * number_of_scouts\n",
    "    \n",
    "    # first scout has infinte matches to move i.e. infinite materials in inventory\n",
    "    bowls[0] = math.inf\n",
    "    \n",
    "    for i in range(simtimeunits):\n",
    "        rolls = []\n",
    "        moved = []\n",
    "        for i in range(number_of_scouts-1):\n",
    "            roll = random.randint(1,6)\n",
    "            matches_to_move = min(bowls[i], roll)\n",
    "            bowls[i+1] += matches_to_move\n",
    "            bowls[i] -= matches_to_move\n",
    "        roll = random.randint(1,6)\n",
    "        matches_produced = min(bowls[-1], roll)\n",
    "        bowls[-1] -= matches_produced\n",
    "        \n",
    "        total_match_stats_per_bowl = [x+y for x,y in zip(total_match_stats_per_bowl, bowls)]\n",
    "    return total_match_stats_per_bowl\n",
    "\n"
   ]
  },
  {
   "cell_type": "markdown",
   "id": "united-lafayette",
   "metadata": {},
   "source": [
    "First lets look at some raw numbers. Here are the number of matches in a bowl on average during the course of a 1000 time unit simulation. Each line is a different simulation (remember we consider the first bowl as having infinite matches)."
   ]
  },
  {
   "cell_type": "code",
   "execution_count": 37,
   "id": "stopped-bundle",
   "metadata": {
    "scrolled": false
   },
   "outputs": [
    {
     "name": "stdout",
     "output_type": "stream",
     "text": [
      "[inf, 25.374, 40.027, 34.066, 10.839, 15.274]\n",
      "[inf, 23.279, 16.884, 11.618, 9.389, 10.286]\n",
      "[inf, 37.168, 11.911, 11.261, 9.442, 14.168]\n",
      "[inf, 23.552, 24.681, 13.726, 31.761, 29.166]\n",
      "[inf, 31.804, 13.233, 12.29, 32.036, 13.241]\n",
      "[inf, 31.028, 33.908, 23.875, 13.817, 15.634]\n",
      "[inf, 25.352, 27.301, 15.711, 19.146, 42.492]\n",
      "[inf, 29.745, 15.566, 7.547, 20.652, 19.141]\n",
      "[inf, 41.537, 41.611, 13.513, 8.674, 14.498]\n",
      "[inf, 53.881, 24.201, 35.794, 20.694, 17.985]\n"
     ]
    }
   ],
   "source": [
    "for i in range(10):\n",
    "    print([x/1000 for x in match_game_2(1000)])"
   ]
  },
  {
   "cell_type": "markdown",
   "id": "ahead-jaguar",
   "metadata": {},
   "source": [
    "It is clear that the number of matches in a bowl is far greater than the 'target' average throughput of 3.5 - it is even greater than the maximum throughput of each bowl. This means that the number of matchsticks that a bowl is receiving is not the limiting factor. That is why the average throughput can approach 3.5 over time once the system starts compensating for the terrible start it had. The logic behind this is that a bowl is bounded on the low side by zero but not on the up side. Therefore by the balance of probabilities the dies will fall such that every bowl will acquire a net gain of matchsticks at some point and that net gain can only be eroded by the difference between the matches it receives and delivers to its neighbour and that is bounded at any point by 5 and is on average 0.\n",
    "\n",
    "In manufacturing language inventory is piling up at each station/machine but the throughput is limited by the average throughput. The problem here is operational cost, not throughput and how to decrease the cost without further reducing throughput.\n",
    "\n",
    "To explore a bit further we can look at the average of the number of matches in each bowl during the simulation. We graph the growth of the average number of matches in each bowl during the simulation (remember that the first bowl has infinite matches). We can see that the early bowls have a much bigger backlog than the later bowls."
   ]
  },
  {
   "cell_type": "code",
   "execution_count": 7,
   "id": "straight-family",
   "metadata": {},
   "outputs": [],
   "source": [
    "def get_average_number_matches_per_bowl_during_sim(i):\n",
    "    a = []\n",
    "    number_of_trials = 100\n",
    "    for _ in range(number_of_trials):\n",
    "        a.append([x/i for x in match_game_2(i)])\n",
    "    return [mean(x) for x in list(zip(*a))]"
   ]
  },
  {
   "cell_type": "code",
   "execution_count": 9,
   "id": "suffering-configuration",
   "metadata": {
    "scrolled": true
   },
   "outputs": [
    {
     "data": {
      "image/png": "[encoded data removed]",
      "text/plain": [
       "<Figure size 432x288 with 1 Axes>"
      ]
     },
     "metadata": {
      "needs_background": "light"
     },
     "output_type": "display_data"
    }
   ],
   "source": [
    "from matplotlib import pyplot as plt\n",
    "\n",
    "\n",
    "a = []\n",
    "\n",
    "for simlength in range(100,1000,100):\n",
    "    a.append(get_average_number_matches_per_bowl_during_sim(simlength))\n",
    "\n",
    "bowls = list(zip(*a))\n",
    "\n",
    "# add each bowl to graph\n",
    "fig, ax = plt.subplots()\n",
    "for bowl in bowls[1:]: # skip the infinite bowl\n",
    "    ax.plot(bowl)\n",
    "ax.set_title('growth of number of matches in each bowl during sim')\n",
    "ax.set_xlabel('simulation time (100s)')\n",
    "ax.set_ylabel('number of matches in given bowl')\n",
    "ax.legend(['bowl %s'%i for i in range(2, len(bowls)+1)])\n",
    "plt.show()\n"
   ]
  },
  {
   "cell_type": "markdown",
   "id": "known-blind",
   "metadata": {},
   "source": [
    "Of course the backlog of matchsticks is growing in the first bowls quicker than at the last bowls."
   ]
  },
  {
   "cell_type": "markdown",
   "id": "fancy-worst",
   "metadata": {},
   "source": [
    "# What if you can roll 0?\n",
    "\n",
    "Finally it is ineresting to answer a question that Alex couldn't answer on the hike because he only had a six sided die. What if a scout could also roll a zero? How does that effect throughput?\n",
    "\n",
    "After all, in manufacturing a works station can completely break down. \n",
    "\n",
    "The simulation below shows that adding this possibility does not fundamentally change the behviour of the system."
   ]
  },
  {
   "cell_type": "code",
   "execution_count": 14,
   "id": "experimental-modeling",
   "metadata": {
    "scrolled": false
   },
   "outputs": [
    {
     "data": {
      "image/png": "[encoded data removed]",
      "text/plain": [
       "<Figure size 432x288 with 1 Axes>"
      ]
     },
     "metadata": {
      "needs_background": "light"
     },
     "output_type": "display_data"
    },
    {
     "data": {
      "image/png": "[encoded data removed]",
      "text/plain": [
       "<Figure size 432x288 with 1 Axes>"
      ]
     },
     "metadata": {
      "needs_background": "light"
     },
     "output_type": "display_data"
    }
   ],
   "source": [
    "def match_game_3(simtimeunits=40):\n",
    "    \n",
    "    number_of_scouts = 6\n",
    "    \n",
    "    # start the bowls with 0 matches\n",
    "    bowls = [0] * number_of_scouts\n",
    "    \n",
    "    # first scout has infinte matches to move i.e. infinite materials in inventory\n",
    "    bowls[0] = math.inf\n",
    "    \n",
    "    total_produced = []\n",
    "    \n",
    "    ave_rolls = []\n",
    "    ave_moved = []\n",
    "    for i in range(simtimeunits):\n",
    "        rolls = []\n",
    "        moved = []\n",
    "        for i in range(number_of_scouts-1):\n",
    "            roll = random.randint(0,6)\n",
    "            rolls.append(roll)\n",
    "            matches_to_move = min(bowls[i], roll)\n",
    "            moved.append(matches_to_move)\n",
    "            bowls[i+1] += matches_to_move\n",
    "            bowls[i] -= matches_to_move\n",
    "        roll = random.randint(0,6)\n",
    "        rolls.append(roll)\n",
    "        matches_produced = min(bowls[-1], roll)\n",
    "        moved.append(matches_produced)\n",
    "        total_produced.append(matches_produced)\n",
    "        bowls[-1] -= matches_produced\n",
    "        ave_rolls.append(mean(rolls))\n",
    "        ave_moved.append(mean(moved))\n",
    "    return total_produced, ave_rolls, ave_moved\n",
    "\n",
    "def average_total_throughput_3(i):\n",
    "    # i is the simulation time\n",
    "    return mean([sum(match_game_1(i)[0]) for x in range(50)])\n",
    "\n",
    "plot_function(average_total_throughput_3, range(10,200,10))\n",
    "\n",
    "\n",
    "def average_average_throughput_per_time_3(i):\n",
    "    # i is the simulation time\n",
    "    return mean([ mean(match_game_1(i)[0]) for x in range(50)])\n",
    "\n",
    "plot_function(average_average_throughput_per_time_3, range(10,1000,10))"
   ]
  },
  {
   "cell_type": "markdown",
   "id": "scenic-whale",
   "metadata": {},
   "source": [
    "Funnily enough in the book one of the scouts declares to his peer who is dismayed by the initial lack of progress:\n",
    "\n",
    "> Don't worry we'll catch up!\n",
    "\n",
    "Given enough time they NEARLY would have, even if their die had a side with zero on it."
   ]
  }
 ],
 "metadata": {
  "kernelspec": {
   "display_name": "Python 3",
   "language": "python",
   "name": "python3"
  },
  "language_info": {
   "codemirror_mode": {
    "name": "ipython",
    "version": 3
   },
   "file_extension": ".py",
   "mimetype": "text/x-python",
   "name": "python",
   "nbconvert_exporter": "python",
   "pygments_lexer": "ipython3",
   "version": "3.8.5"
  }
 },
 "nbformat": 4,
 "nbformat_minor": 5
}
