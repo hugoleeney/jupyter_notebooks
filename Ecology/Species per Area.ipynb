{
 "cells": [
  {
   "cell_type": "markdown",
   "id": "scheduled-produce",
   "metadata": {},
   "source": [
    "# Motivation\n",
    "\n",
    "*https://www.youtube.com/watch?v=m41DWardioc\n",
    "\n",
    "In the video linked above the lecturer alludes to practices in field ecology of counting species in an area of a particular size and then areas of larger and larger size and defining a relationship between the number of species found at successively larger sizes. The lecturer states that that relationship can be modelled as a power law and that generally (or at least in many cases) the relationship follows \n",
    "\n",
    "`n = c(A^z)` where \n",
    "* n is the number of species\n",
    "* c is some constant\n",
    "* A is the area\n",
    "* z is usually around 1/4\n",
    "\n",
    "# Purpose\n",
    "\n",
    "In this notebook we attempt to attempt to replicate a similar relationship using species population data generated from a simple 'break the stick' model and location data generated purely randomly.\n",
    "\n",
    "# Method\n",
    "\n",
    "Specifically, we generate a multi-species population of one million indviduals with the break-the-stick model. We then assign them coordinates in a 2D plane. We iterate over possible successively larer values for the sample area and count the number of distinct species we find in each. We plot a line of the counts found to the area.\n",
    "\n",
    "# Conclusion\n",
    "\n",
    "If we compare the plot of the break-the-stick model with that of the `n=c(A^(1/4))` model we can see some similarity in shape but our model finds more species in smaller areas. To make the power law model fit to the break the stick model the power has to be much smaller i.e. "
   ]
  },
  {
   "cell_type": "code",
   "execution_count": 2,
   "id": "inner-desert",
   "metadata": {},
   "outputs": [],
   "source": [
    "# code for break-the-stick model\n",
    "\n",
    "import random\n",
    "import copy\n",
    "import math\n",
    "\n",
    "from collections import namedtuple, Counter\n",
    "from scipy.stats import norm\n",
    "import numpy as np\n",
    "import matplotlib.pyplot as plt\n",
    "\n",
    "\n",
    "segment = namedtuple('Segment', ['start', 'end'])\n",
    "\n",
    "\n",
    "def do_break_int_sizes(s):\n",
    "    if s.end-s.start == 1:\n",
    "        return [s]\n",
    "    seg_break = random.randint(1, s.end - s.start - 1)\n",
    "    marker = s.start + seg_break\n",
    "    return [segment(s.start, marker), segment(marker, s.end)]\n",
    "    \n",
    "\n",
    "def break_stick(stick, break_cycles, p_break, break_function=do_break_int_sizes):\n",
    "    '''\n",
    "    stick: is a list of segments\n",
    "    break_cycles: max number of iterations of breaks a stick will undergo\n",
    "    p_break: probability a segment breaks at all at any iteration\n",
    "    '''\n",
    "    stick = copy.deepcopy(stick)\n",
    "    while break_cycles > 0:\n",
    "        next_stick = []\n",
    "        change_made = False\n",
    "        for segment in stick:\n",
    "            if random.random() < p_break:\n",
    "                change_made = True\n",
    "                next_stick.extend(break_function(segment))\n",
    "            else:\n",
    "                next_stick.append(segment)\n",
    "        if not change_made:\n",
    "            return stick\n",
    "        stick = next_stick\n",
    "        break_cycles -= 1\n",
    "    return stick"
   ]
  },
  {
   "cell_type": "code",
   "execution_count": 31,
   "id": "classified-trace",
   "metadata": {},
   "outputs": [],
   "source": [
    "\n",
    "def generate_locations(species):\n",
    "    individual_locations = []\n",
    "    for sp_num, sp in enumerate(species):\n",
    "        for i in range(sp.start, sp.end):\n",
    "            individual_locations.append( (sp_num, random.random(), random.random()) )\n",
    "    return individual_locations\n"
   ]
  },
  {
   "cell_type": "code",
   "execution_count": 27,
   "id": "competent-gallery",
   "metadata": {},
   "outputs": [],
   "source": [
    "def calc_species_in_bounds(individual_locations):\n",
    "    species_in_bounds = []\n",
    "    for bound in range(1, 1000, 1):\n",
    "        bound = bound/1000\n",
    "        found = set()\n",
    "        count_species = 0\n",
    "        for indiv in individual_locations:\n",
    "            if indiv[1] < bound and indiv[2] < bound:\n",
    "                if indiv[0] not in found:\n",
    "                    found.add(indiv[0])\n",
    "                    count_species += 1\n",
    "        species_in_bounds.append((bound, count_species))\n",
    "    return species_in_bounds\n"
   ]
  },
  {
   "cell_type": "code",
   "execution_count": 48,
   "id": "forward-painting",
   "metadata": {},
   "outputs": [],
   "source": [
    "import matplotlib.pyplot as plt\n",
    "\n",
    "def plot_species_by_bounds_area(species_in_bounds):\n",
    "    fig, ax = plt.subplots()\n",
    "    ax.plot(\n",
    "        [x[0] for x in species_in_bounds], \n",
    "        [x[1] for x in species_in_bounds])\n",
    "    ax.set_title(\"species in bounds\")\n",
    "    ax.set_xlabel('bounds size')\n",
    "    ax.set_ylabel('number of species')\n",
    "    plt.show()"
   ]
  },
  {
   "cell_type": "code",
   "execution_count": 23,
   "id": "verbal-yacht",
   "metadata": {
    "scrolled": true
   },
   "outputs": [
    {
     "data": {
      "image/png": "[encoded data removed]",
      "text/plain": [
       "<Figure size 432x288 with 1 Axes>"
      ]
     },
     "metadata": {
      "needs_background": "light"
     },
     "output_type": "display_data"
    }
   ],
   "source": [
    "# 1000000 individuals in the population\n",
    "species = break_stick([segment(0, 1000000)], 7, 1.0)\n",
    "\n",
    "plot_species_by_bounds_area(calc_species_in_bounds(generate_locations(species)))"
   ]
  },
  {
   "cell_type": "code",
   "execution_count": 49,
   "id": "legal-botswana",
   "metadata": {
    "scrolled": true
   },
   "outputs": [
    {
     "data": {
      "image/png": "[encoded data removed]",
      "text/plain": [
       "<Figure size 432x288 with 1 Axes>"
      ]
     },
     "metadata": {
      "needs_background": "light"
     },
     "output_type": "display_data"
    }
   ],
   "source": [
    "species = [(x, 120*(x**(1/4))) for x in [a/1000 for a in range(1, 1000)]]\n",
    "plot_species_by_bounds_area(species)"
   ]
  }
 ],
 "metadata": {
  "kernelspec": {
   "display_name": "Python 3",
   "language": "python",
   "name": "python3"
  },
  "language_info": {
   "codemirror_mode": {
    "name": "ipython",
    "version": 3
   },
   "file_extension": ".py",
   "mimetype": "text/x-python",
   "name": "python",
   "nbconvert_exporter": "python",
   "pygments_lexer": "ipython3",
   "version": "3.8.5"
  }
 },
 "nbformat": 4,
 "nbformat_minor": 5
}
