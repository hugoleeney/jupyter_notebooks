{
 "cells": [
  {
   "cell_type": "markdown",
   "id": "1adca492",
   "metadata": {},
   "source": [
    "# The Question\n",
    "\n",
    "> TEST YOUR INTUITION!! You are a development team lead for a contractor. A new project has come in that you have to cost for your sales team based on hours worked. There are 50 features. Each feature will take 10 hours. The naive estimate is too easy right!? ... WAIT theres more! Each feature will take 100 lines of code and you KNOW that you will have 0.1 bugs per line. Don't panic, you know that each bug will take only 2 hours to fix .. just also consider that every bug will constitute 5 new lines of code and there will be bugs in them too. So, QUESTION: how long before the product is actually pristine? Give your answer in either hours or multiples of the naive estimate."
   ]
  },
  {
   "cell_type": "markdown",
   "id": "1dbcc382",
   "metadata": {},
   "source": [
    "# Answer\n",
    "\n",
    "Lets do the workings in a table.\n",
    "\n",
    "| **Task**             | **Number to do** | **Cost** | **Number of lines to write** |\n",
    "| -------------------- | ---------------- | -------- | ---------------------------- |\n",
    "| **Initial Features** | 50               | 500      | 5000                         |\n",
    "| **Bugs Round 1**     | 500              | 1000     | 2500                         |\n",
    "| **Bugs Round 2**     | 250              | 500      | 1250                         |\n",
    "| **Bugs Round 3**     | 125              | 250      | 625                          |\n",
    "| **Bugs Round 4**     | 62.5             | 125      | 312.5                        |\n",
    "| **Bugs Round 5**     | 31.25            | 62.5     | 156.25                       |\n",
    "| **Bugs Round 6**     | 15.625           | 31.25    | 78.125                       |\n",
    "| **Bugs Round 7**     | 7.8125           | 15.625   | 39.0625                      |\n",
    "| **Bugs Round 8**     | 3.90625          | 7.8125   | 19.53125                     |\n",
    "| **Bugs Round 9**     | 1.953125         | 3.90625  | 9.765625                     |\n",
    "| .. | .. | .. | .. | .. |\n",
    "| **TOTAL**     |         |  2500 |                     |\n",
    "\n",
    "\n",
    "The table shows doing the initial features is the easy part. The first round of bug fixes costs more than the initial features!! In total there is 5 times the work of the initial features alone. \n",
    "\n",
    "\n",
    "# Maths Stuff\n",
    "\n",
    "The full calculation involves an infinite sum. It should be intuitive that if each bug fix itself creates one or more bugs then that sum will never converge. In our case each bug fix only creates 0.1 * 5 bugs so it does converge. In the table above, after the 9th round of bug fixes less than one whole bug is created so we stop there but the whole sum can be compute by the method given below. \n",
    "\n",
    "### Converging Sum\n",
    "If 'bugs per lines' multiplied by 'lines per bug fix' is less than one we can calculate the convergence of the sum as follows (per any convergent geometric series):\n",
    "\n",
    "$ TOTAL = a + A / (1 - B) $\n",
    "\n",
    "where:\n",
    "- a = number of features x hours per feature\n",
    "- A = hours per bug x number of features x lines per feature x bugs per line\n",
    "- B = lines per bug x bugs per line\n",
    "\n",
    "The numbers we chose for the variables are probably a bit unrealistic so it would be interesting to understand how the outcome varies with variation in the parameters.\n",
    "\n",
    "At the time of publishing there is an interactive version of this article at [heroku](https://evening-beyond-80526.herokuapp.com/) where you can set values for all the variables. If you are reading the blog article, below there are several charts with varying hours per bug and lines per bug (all basically the same chart with different scales).\n",
    "\n",
    "The source code for this article is available at [github](https://github.com/hugoleeney/jupyter_notebooks/blob/main/Dev/Buggy%20Project%20Estimate.ipynb)."
   ]
  },
  {
   "cell_type": "code",
   "execution_count": 5,
   "id": "40b4ccea",
   "metadata": {},
   "outputs": [
    {
     "data": {
      "application/vnd.jupyter.widget-view+json": {
       "model_id": "1f3bb27dfd1841d4af6c58a738ad7707",
       "version_major": 2,
       "version_minor": 0
      },
      "text/plain": [
       "interactive(children=(IntSlider(value=50, description='numfeatures', min=1), IntSlider(value=50, description='…"
      ]
     },
     "metadata": {},
     "output_type": "display_data"
    }
   ],
   "source": [
    "%matplotlib inline\n",
    "from ipywidgets import *\n",
    "import numpy as np\n",
    "import matplotlib.pyplot as plt\n",
    "\n",
    "\n",
    "def g(numfeatures, hrsperfeature, linesperfeature, hrsperbug, bugsperline, linesperbug):\n",
    "    a = numfeatures*hrsperfeature\n",
    "    A = hrsperbug*numfeatures*linesperfeature*bugsperline\n",
    "    B = linesperbug*bugsperline\n",
    "    return a+A/(1-B)\n",
    "    \n",
    "\n",
    "@interact(numfeatures=(1, 100), hrsperfeature=(1,100), linesperfeature=(1,100), hrsperbug=(1,20), linesperbug=5)\n",
    "def f(numfeatures, hrsperfeature, linesperfeature, hrsperbug, linesperbug):\n",
    "    \n",
    "    fig_by_multiplier = plt.figure()\n",
    "    ax_by_multiplier = fig_by_multiplier.add_subplot()\n",
    "    x_s = [x/1000 for x in range(100)]\n",
    "    y_s = [g(numfeatures, hrsperfeature, linesperfeature, hrsperbug, x, linesperbug) for x in x_s]\n",
    "    ax_by_multiplier.set_xlabel('bugs per line')\n",
    "    ax_by_multiplier.set_ylabel('total hours per project')\n",
    "    line, = ax_by_multiplier.plot(x_s, y_s)"
   ]
  },
  {
   "cell_type": "code",
   "execution_count": null,
   "id": "9419f3c3",
   "metadata": {},
   "outputs": [],
   "source": []
  }
 ],
 "metadata": {
  "kernelspec": {
   "display_name": "Python 3",
   "language": "python",
   "name": "python3"
  },
  "language_info": {
   "codemirror_mode": {
    "name": "ipython",
    "version": 3
   },
   "file_extension": ".py",
   "mimetype": "text/x-python",
   "name": "python",
   "nbconvert_exporter": "python",
   "pygments_lexer": "ipython3",
   "version": "3.8.5"
  }
 },
 "nbformat": 4,
 "nbformat_minor": 5
}
